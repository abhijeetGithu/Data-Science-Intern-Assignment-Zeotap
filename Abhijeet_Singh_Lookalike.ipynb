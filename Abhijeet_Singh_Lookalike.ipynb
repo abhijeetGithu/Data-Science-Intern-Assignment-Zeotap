{
  "nbformat": 4,
  "nbformat_minor": 0,
  "metadata": {
    "colab": {
      "provenance": []
    },
    "kernelspec": {
      "name": "python3",
      "display_name": "Python 3"
    },
    "language_info": {
      "name": "python"
    }
  },
  "cells": [
    {
      "cell_type": "code",
      "execution_count": 1,
      "metadata": {
        "id": "44BeXK-94dnS"
      },
      "outputs": [],
      "source": [
        "import pandas as pd\n",
        "import numpy as np\n",
        "from sklearn.preprocessing import StandardScaler\n",
        "from sklearn.metrics.pairwise import cosine_similarity\n",
        "import warnings\n",
        "warnings.filterwarnings('ignore')\n",
        "\n"
      ]
    },
    {
      "cell_type": "code",
      "source": [
        "\n",
        "customers_df = pd.read_csv('Customers.csv')\n",
        "products_df = pd.read_csv('Products.csv')\n",
        "transactions_df = pd.read_csv('Transactions.csv')\n",
        "\n",
        "# Convert dates to datetime\n",
        "customers_df['SignupDate'] = pd.to_datetime(customers_df['SignupDate'])\n",
        "transactions_df['TransactionDate'] = pd.to_datetime(transactions_df['TransactionDate'])"
      ],
      "metadata": {
        "id": "KItBzvbQ5KKR"
      },
      "execution_count": 2,
      "outputs": []
    },
    {
      "cell_type": "code",
      "source": [
        "print(customers_df.head(5))\n",
        "print(products_df.head(5))\n",
        "print(transactions_df.head(5))"
      ],
      "metadata": {
        "colab": {
          "base_uri": "https://localhost:8080/"
        },
        "id": "75Mud2-q5PuQ",
        "outputId": "d8d1da6c-8442-4dae-9558-68ab8d373c81"
      },
      "execution_count": 3,
      "outputs": [
        {
          "output_type": "stream",
          "name": "stdout",
          "text": [
            "  CustomerID        CustomerName         Region SignupDate\n",
            "0      C0001    Lawrence Carroll  South America 2022-07-10\n",
            "1      C0002      Elizabeth Lutz           Asia 2022-02-13\n",
            "2      C0003      Michael Rivera  South America 2024-03-07\n",
            "3      C0004  Kathleen Rodriguez  South America 2022-10-09\n",
            "4      C0005         Laura Weber           Asia 2022-08-15\n",
            "  ProductID              ProductName     Category   Price\n",
            "0      P001     ActiveWear Biography        Books  169.30\n",
            "1      P002    ActiveWear Smartwatch  Electronics  346.30\n",
            "2      P003  ComfortLiving Biography        Books   44.12\n",
            "3      P004            BookWorld Rug   Home Decor   95.69\n",
            "4      P005          TechPro T-Shirt     Clothing  429.31\n",
            "  TransactionID CustomerID ProductID     TransactionDate  Quantity  \\\n",
            "0        T00001      C0199      P067 2024-08-25 12:38:23         1   \n",
            "1        T00112      C0146      P067 2024-05-27 22:23:54         1   \n",
            "2        T00166      C0127      P067 2024-04-25 07:38:55         1   \n",
            "3        T00272      C0087      P067 2024-03-26 22:55:37         2   \n",
            "4        T00363      C0070      P067 2024-03-21 15:10:10         3   \n",
            "\n",
            "   TotalValue   Price  \n",
            "0      300.68  300.68  \n",
            "1      300.68  300.68  \n",
            "2      300.68  300.68  \n",
            "3      601.36  300.68  \n",
            "4      902.04  300.68  \n"
          ]
        }
      ]
    },
    {
      "cell_type": "markdown",
      "source": [
        "### Function: `create_customer_features`\n",
        "\n",
        "This function generates a feature matrix for each customer by combining customer, transaction, and product data. Below is an explanation of how the function works:\n",
        "\n",
        "1. **Basic Customer Features**:\n",
        "   - Extracts `CustomerID` as a base feature.\n",
        "\n",
        "2. **Region Encoding**:\n",
        "   - Uses one-hot encoding to transform the `Region` column into numerical features for each region.\n",
        "\n",
        "3. **Signup Recency**:\n",
        "   - Calculates the number of days since a customer signed up using the reference date (`2024-12-31`).\n",
        "\n",
        "4. **Transaction Features**:\n",
        "   - Aggregates transaction data for each customer to calculate:\n",
        "     - `TransactionCount`: Total number of transactions.\n",
        "     - `TotalQuantity`: Total quantity of items purchased.\n",
        "     - `AvgQuantity`: Average quantity per transaction.\n",
        "     - `TotalSpend`: Total spending across all transactions.\n",
        "     - `AvgSpend`: Average spending per transaction.\n",
        "     - `AvgPrice`: Average price of purchased products.\n",
        "\n",
        "5. **Category Preferences**:\n",
        "   - Merges transaction data with product information to identify product categories.\n",
        "   - Calculates total spending by category for each customer.\n",
        "   - Converts category spending into percentages to show preferences.\n",
        "\n",
        "6. **Feature Merging**:\n",
        "   - Combines all generated features (basic, region, transaction, and category preferences) into a single feature matrix.\n",
        "   - Handles missing data by filling `NaN` values with `0`.\n",
        "\n",
        "7. **Return Value**:\n",
        "   - Outputs a complete feature matrix for all customers, ready for further analysis.\n",
        "\n",
        "\n",
        "- After generating the feature matrix:\n",
        "  - It Uses `StandardScaler` to normalize the features for better comparison.\n",
        "  - Computing a similarity matrix using cosine similarity to measure how similar customers are based on their behavior and preferences.\n"
      ],
      "metadata": {
        "id": "K2RJD6JI8cwR"
      }
    },
    {
      "cell_type": "code",
      "source": [
        "def create_customer_features(customers_df, transactions_df, products_df):\n",
        "    \"\"\"Create feature vector for each customer with NaN handling\"\"\"\n",
        "\n",
        "\n",
        "    base_features = customers_df[['CustomerID']].copy()\n",
        "\n",
        "\n",
        "    region_features = pd.get_dummies(customers_df['Region'], prefix='Region')\n",
        "\n",
        "\n",
        "    max_date = pd.to_datetime('2024-12-31')\n",
        "    base_features['DaysSinceSignup'] = (max_date - customers_df['SignupDate']).dt.days\n",
        "\n",
        "\n",
        "\n",
        "    transaction_metrics = transactions_df.groupby('CustomerID').agg({\n",
        "        'TransactionID': 'count',\n",
        "        'Quantity': ['sum', 'mean'],\n",
        "        'TotalValue': ['sum', 'mean'],\n",
        "        'Price': 'mean'\n",
        "    }).fillna(0)\n",
        "\n",
        "\n",
        "    transaction_metrics.columns = ['TransactionCount', 'TotalQuantity',\n",
        "                                 'AvgQuantity', 'TotalSpend',\n",
        "                                 'AvgSpend', 'AvgPrice']\n",
        "    transaction_metrics = transaction_metrics.reset_index()\n",
        "\n",
        "\n",
        "    trans_products = transactions_df.merge(products_df, on='ProductID')\n",
        "\n",
        "\n",
        "    category_spend = trans_products.groupby(['CustomerID', 'Category'])['TotalValue'].sum().unstack(fill_value=0)\n",
        "\n",
        "\n",
        "    category_totals = category_spend.sum(axis=1)\n",
        "    category_percentages = category_spend.div(category_totals, axis=0).fillna(0)\n",
        "    category_percentages.columns = [f'Pct_{col}' for col in category_percentages.columns]\n",
        "\n",
        "\n",
        "    final_features = (base_features\n",
        "                     .merge(region_features, left_index=True, right_index=True)\n",
        "                     .merge(transaction_metrics, on='CustomerID', how='left')\n",
        "                     .merge(category_percentages.reset_index(), on='CustomerID', how='left'))\n",
        "\n",
        "\n",
        "    final_features = final_features.fillna(0)\n",
        "\n",
        "    return final_features\n",
        "\n",
        "\n",
        "feature_matrix = create_customer_features(customers_df, transactions_df, products_df)\n",
        "\n",
        "\n",
        "customer_ids = feature_matrix['CustomerID']\n",
        "features = feature_matrix.drop('CustomerID', axis=1)\n",
        "\n",
        "\n",
        "scaler = StandardScaler()\n",
        "scaled_features = scaler.fit_transform(features)\n",
        "\n",
        "#\n",
        "similarity_matrix = cosine_similarity(scaled_features)"
      ],
      "metadata": {
        "id": "QO27NG_k5Vbe"
      },
      "execution_count": 4,
      "outputs": []
    },
    {
      "cell_type": "code",
      "source": [],
      "metadata": {
        "id": "pRY8fywL89A0"
      },
      "execution_count": 4,
      "outputs": []
    },
    {
      "cell_type": "markdown",
      "source": [
        "### Function: `get_top_lookalikes`\n",
        "\n",
        "This function identifies the top N most similar customers for a given customer based on a pre-computed similarity matrix. Below is the breakdown of its components:\n",
        "\n",
        "1. **Parameters**:\n",
        "   - `customer_id`: The ID of the customer for whom we want to find similar customers.\n",
        "   - `n`: The number of similar customers to retrieve (default is 3).\n",
        "\n",
        "2. **Steps**:\n",
        "   - **Find the Customer Index**:\n",
        "     - Locate the index of the given `customer_id` in the `customer_ids` list.\n",
        "   - **Retrieve Similarities**:\n",
        "     - Use the similarity matrix to fetch similarity scores for the given customer.\n",
        "   - **Sort Similarities**:\n",
        "     - Sort similarity scores in descending order and exclude the customer itself.\n",
        "   - **Extract Top N Similar Customers**:\n",
        "     - Retrieve the IDs and similarity scores of the top N most similar customers.\n",
        "\n",
        "3. **Error Handling**:\n",
        "   - If the `customer_id` is not found or any other issue occurs, the function prints an error message and returns `None`.\n",
        "\n",
        "4. **Return Value**:\n",
        "   - A list of dictionaries containing:\n",
        "     - `similar_customer`: The ID of the similar customer.\n",
        "     - `similarity_score`: The similarity score rounded to 4 decimal places.\n",
        "\n",
        "---\n",
        "\n",
        "### How to use Example:\n",
        "1. **Generate Lookalikes for First 20 Customers**:\n",
        "   - The code generates lookalike data for customers with IDs `C0001` to `C0020`.\n",
        "   - For each target customer:\n",
        "     - Calls `get_top_lookalikes` to get the top 3 similar customers.\n",
        "   - The results include:\n",
        "     - `CustomerID`: Target customer ID.\n",
        "     - `Similar_Customer_1` to `Similar_Customer_3`: The IDs of the top 3 similar customers.\n",
        "     - `Score_1` to `Score_3`: The similarity scores of the corresponding customers.\n",
        "\n",
        "2. **Output**:\n",
        "   - A DataFrame (`output_df`) is created from the results.\n",
        "   - The DataFrame is will be saved to a CSV file named `Abhijeet_Singh_Lookalike.csv`.\n",
        "\n",
        "---\n",
        "\n",
        "### In Output File: `Lookalike.csv`\n",
        "- This file contains the following columns:\n",
        "  - `CustomerID`: Target customer ID.\n",
        "  - `Similar_Customer_1`, `Similar_Customer_2`, `Similar_Customer_3`: The IDs of the most similar customers.\n",
        "  - `Score_1`, `Score_2`, `Score_3`: The corresponding similarity scores.\n",
        "\n"
      ],
      "metadata": {
        "id": "GT43yI4889LG"
      }
    },
    {
      "cell_type": "code",
      "source": [
        "def get_top_lookalikes(customer_id, n=3):\n",
        "    \"\"\"Get top N similar customers for given customer ID\"\"\"\n",
        "    try:\n",
        "\n",
        "        customer_idx = customer_ids[customer_ids == customer_id].index[0]\n",
        "\n",
        "\n",
        "        similarities = similarity_matrix[customer_idx]\n",
        "\n",
        "\n",
        "        similar_indices = np.argsort(similarities)[::-1][1:n+1]\n",
        "\n",
        "\n",
        "        results = []\n",
        "        for idx in similar_indices:\n",
        "            results.append({\n",
        "                'similar_customer': customer_ids.iloc[idx],\n",
        "                'similarity_score': round(similarities[idx], 4)\n",
        "            })\n",
        "\n",
        "        return results\n",
        "    except Exception as e:\n",
        "        print(f\"Error processing customer {customer_id}: {str(e)}\")\n",
        "        return None\n",
        "\n",
        "# Generate lookalikes for first 20 customers (C0001-C0020)\n",
        "target_customers = [f'C{str(i).zfill(4)}' for i in range(1, 21)]\n",
        "results = []\n",
        "\n",
        "for cust_id in target_customers:\n",
        "    lookalikes = get_top_lookalikes(cust_id)\n",
        "    if lookalikes:\n",
        "        results.append({\n",
        "            'CustomerID': cust_id,\n",
        "            'Similar_Customer_1': lookalikes[0]['similar_customer'],\n",
        "            'Score_1': lookalikes[0]['similarity_score'],\n",
        "            'Similar_Customer_2': lookalikes[1]['similar_customer'],\n",
        "            'Score_2': lookalikes[1]['similarity_score'],\n",
        "            'Similar_Customer_3': lookalikes[2]['similar_customer'],\n",
        "            'Score_3': lookalikes[2]['similarity_score']\n",
        "        })\n",
        "\n",
        "\n",
        "output_df = pd.DataFrame(results)\n",
        "output_df.to_csv('Lookalike.csv', index=False)\n"
      ],
      "metadata": {
        "id": "LrL7MV3i6NEu"
      },
      "execution_count": 5,
      "outputs": []
    },
    {
      "cell_type": "code",
      "source": [
        "\n",
        "\n",
        "print(\"\\nFirst few rows of lookalike recommendations:\")\n",
        "print(output_df.head())\n",
        "\n",
        "\n",
        "print(\"\\nFeature matrix shape:\", features.shape)\n",
        "print(\"\\nNumber of customers processed:\", len(results))"
      ],
      "metadata": {
        "colab": {
          "base_uri": "https://localhost:8080/"
        },
        "id": "x3cnnusj7PEX",
        "outputId": "a3470094-6048-456d-d331-403d6d87da6d"
      },
      "execution_count": 6,
      "outputs": [
        {
          "output_type": "stream",
          "name": "stdout",
          "text": [
            "\n",
            "First few rows of lookalike recommendations:\n",
            "  CustomerID Similar_Customer_1  Score_1 Similar_Customer_2  Score_2  \\\n",
            "0      C0001              C0192   0.8948              C0120   0.8907   \n",
            "1      C0002              C0106   0.9303              C0159   0.9264   \n",
            "2      C0003              C0091   0.7725              C0031   0.7589   \n",
            "3      C0004              C0113   0.9203              C0165   0.8623   \n",
            "4      C0005              C0007   0.9310              C0140   0.8262   \n",
            "\n",
            "  Similar_Customer_3  Score_3  \n",
            "0              C0112   0.7914  \n",
            "1              C0134   0.8904  \n",
            "2              C0195   0.7331  \n",
            "3              C0104   0.8265  \n",
            "4              C0186   0.7292  \n",
            "\n",
            "Feature matrix shape: (200, 15)\n",
            "\n",
            "Number of customers processed: 20\n"
          ]
        }
      ]
    },
    {
      "cell_type": "code",
      "source": [],
      "metadata": {
        "id": "Ft00NFtB7bdd"
      },
      "execution_count": 6,
      "outputs": []
    }
  ]
}